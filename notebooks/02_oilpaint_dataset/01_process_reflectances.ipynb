{
 "cells": [
  {
   "cell_type": "markdown",
   "metadata": {},
   "source": [
    "## Read and process reflectances per paintout"
   ]
  },
  {
   "cell_type": "code",
   "execution_count": null,
   "metadata": {},
   "outputs": [
    {
     "name": "stdout",
     "output_type": "stream",
     "text": [
      "['Titanium white' 'Bone black' 'Chalk white' 'French Ochre 40030'\n",
      " 'French Ochre JALS 40060' 'Lapis Lazuli from chile' 'Raw umber greenish'\n",
      " 'Red lake' 'Indigo' 'Jaune de reseda' 'Krapplack red']\n"
     ]
    }
   ],
   "source": [
    "import pandas as pd\n",
    "from pathlib import Path\n",
    "\n",
    "# TODO: update this path to the location of the dataset on your system\n",
    "dataset_path = Path('/local/home/rwiersma/Documents/Paintings/Captures paintings 2023')\n",
    "\n",
    "# Read the overview csv file that lists the paintouts, their captures, and the mixing ratios\n",
    "with (dataset_path / 'paintout_measurements/paintouts.csv').open() as file:\n",
    "    paintouts = pd.read_csv(file)\n",
    "\n",
    "paintout_names = paintouts['name'].unique()\n",
    "\n",
    "# Print list of names of paintouts\n",
    "print(paintout_names)"
   ]
  },
  {
   "cell_type": "code",
   "execution_count": null,
   "metadata": {},
   "outputs": [
    {
     "ename": "",
     "evalue": "",
     "output_type": "error",
     "traceback": [
      "\u001b[1;31mThe Kernel crashed while executing code in the current cell or a previous cell. \n",
      "\u001b[1;31mPlease review the code in the cell(s) to identify a possible cause of the failure. \n",
      "\u001b[1;31mClick <a href='https://aka.ms/vscodeJupyterKernelCrash'>here</a> for more info. \n",
      "\u001b[1;31mView Jupyter <a href='command:jupyter.viewOutput'>log</a> for further details."
     ]
    }
   ],
   "source": [
    "import numpy as np\n",
    "import spectral.io.envi as envi\n",
    "from skimage.io import imread\n",
    "from scipy.interpolate import interp1d\n",
    "\n",
    "import matplotlib.pyplot as plt\n",
    "\n",
    "from painting_tools.util.color import spectral_to_rgb, resample_wavelengths\n",
    "\n",
    "# Read out first file for wavelengths\n",
    "reflectance_path = dataset_path / 'paintout_measurements' / '855' / 'results' / f'REFLECTANCE_855'\n",
    "# Reads out calibrated reflectance data (raw data and white/black reference are also available)\n",
    "metadata = envi.open(str(reflectance_path) + '.hdr', str(reflectance_path) + '.dat').metadata\n",
    "\n",
    "# Create an empty pandas dataframe\n",
    "columns = ['name', 'ratio_pigment_to_white', 'background', *metadata['wavelength']]\n",
    "reflectance_df = pd.DataFrame(columns=columns)\n",
    "\n",
    "# Flag to visualize lookup\n",
    "visualize_lookup = False\n",
    "\n",
    "# Iterate over all samples in the paintout and get the reflectance data from the masked regions\n",
    "for i, row in paintouts.iterrows(): \n",
    "    capture_folder = dataset_path / 'paintout_measurements' / str(row['capture_id'])\n",
    "    reflectance_path = capture_folder / 'results' / f'REFLECTANCE_{row['capture_id']}'\n",
    "\n",
    "    # Reads out calibrated reflectance data (raw data and white/black reference are also available)\n",
    "    reflectance_data = envi.open(str(reflectance_path) + '.hdr', str(reflectance_path) + '.dat')\n",
    "    reflectance = reflectance_data.asarray()\n",
    "    reflectance = np.rot90(reflectance, -1)\n",
    "    wavelengths = np.array(reflectance_data.metadata['wavelength'], dtype=np.float32)\n",
    "\n",
    "    # Get the pixel_mask for this capture\n",
    "    # This mask was painted by hand to select samples of the paintout without highlights or paper covering the paint\n",
    "    pixel_mask = imread(capture_folder / f'sample_locations_{row['capture_id']}.tif')\n",
    "\n",
    "    # Take average of all pixels in reflectance where pixel_mask == pixel_id\n",
    "    reflectance_white = reflectance[pixel_mask == row['pixel_id_white']].mean(axis=0)\n",
    "    reflectance_black = reflectance[pixel_mask == row['pixel_id_black']].mean(axis=0)\n",
    "\n",
    "    # Add the reflectance data to the dataframe\n",
    "    if reflectance_df.empty:\n",
    "        reflectance_df = pd.DataFrame([[row['name'], row['ratio_pigment_to_white'], 'white', *reflectance_white]], columns=columns)\n",
    "    else:\n",
    "        reflectance_df = pd.concat([reflectance_df, pd.DataFrame([[row['name'], row['ratio_pigment_to_white'], 'white', *reflectance_white]], columns=columns)], ignore_index=True)\n",
    "    reflectance_df = pd.concat([reflectance_df, pd.DataFrame([[row['name'], row['ratio_pigment_to_white'], 'black', *reflectance_black]], columns=columns)], ignore_index=True)\n",
    "\n",
    "    if visualize_lookup and i < 3:\n",
    "        # For visualization, convert to RGB, including gamma correction\n",
    "        reflectance_rgb = (np.array(spectral_to_rgb(reflectance, wavelengths, apply_gamma=True, gamma=2.2)) * 255).astype(np.uint8)\n",
    "\n",
    "        fig, ax = plt.subplots(1, 2, figsize=(10, 5))\n",
    "        ax[0].imshow(reflectance_rgb)\n",
    "        ax[0].imshow(np.ones((512, 512)), alpha=1.0*(pixel_mask == row['pixel_id_white']), cmap='grey', vmin=0, vmax=1)\n",
    "        ax[0].imshow(np.zeros((512, 512)), alpha=1.0*(pixel_mask == row['pixel_id_black']), cmap='grey', vmin=0, vmax=1)\n",
    "\n",
    "        # Plot reflectance\n",
    "        plt.title(f'{row['name']} {row['ratio_pigment_to_white']}')\n",
    "        ax[1].plot(wavelengths, reflectance_white, label='white')\n",
    "        ax[1].plot(wavelengths, reflectance_black, label='black')\n",
    "        ax[1].legend()\n",
    "        plt.show()\n",
    "\n",
    "# Save the reflectance data to a csv file\n",
    "reflectance_df.to_csv(dataset_path / 'processed' / 'paintouts_reflectance.csv', index=False)"
   ]
  }
 ],
 "metadata": {
  "kernelspec": {
   "display_name": "painting",
   "language": "python",
   "name": "python3"
  },
  "language_info": {
   "codemirror_mode": {
    "name": "ipython",
    "version": 3
   },
   "file_extension": ".py",
   "mimetype": "text/x-python",
   "name": "python",
   "nbconvert_exporter": "python",
   "pygments_lexer": "ipython3",
   "version": "3.12.8"
  }
 },
 "nbformat": 4,
 "nbformat_minor": 2
}
